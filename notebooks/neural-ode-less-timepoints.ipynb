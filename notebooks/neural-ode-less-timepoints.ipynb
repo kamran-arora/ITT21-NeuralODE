{
 "cells": [
  {
   "cell_type": "code",
   "execution_count": 71,
   "metadata": {},
   "outputs": [],
   "source": [
    "import jax\n",
    "import jax.numpy as jnp\n",
    "import jax.random as jr\n",
    "import equinox as eqx\n",
    "import optax\n",
    "import diffrax as dfx\n",
    "import matplotlib.pyplot as plt"
   ]
  },
  {
   "cell_type": "code",
   "execution_count": 72,
   "metadata": {},
   "outputs": [],
   "source": [
    "a = [10, 20, 30]\n",
    "b = [1, 2, 3]"
   ]
  },
  {
   "cell_type": "markdown",
   "metadata": {},
   "source": [
    "load data"
   ]
  },
  {
   "cell_type": "code",
   "execution_count": 73,
   "metadata": {},
   "outputs": [],
   "source": [
    "no_noise_data = jnp.load(\"../data/ODE_solution.npy\")\n",
    "train_data = jnp.load(\"../data/noisy_solutions.npy\")"
   ]
  },
  {
   "cell_type": "code",
   "execution_count": 74,
   "metadata": {},
   "outputs": [
    {
     "name": "stdout",
     "output_type": "stream",
     "text": [
      "(1000,)\n",
      "(10, 1000)\n"
     ]
    }
   ],
   "source": [
    "print(no_noise_data.shape)\n",
    "print(train_data.shape)"
   ]
  },
  {
   "cell_type": "code",
   "execution_count": 75,
   "metadata": {},
   "outputs": [
    {
     "name": "stdout",
     "output_type": "stream",
     "text": [
      "[  0 111 222 333 444 555 666 777 888 999]\n"
     ]
    }
   ],
   "source": [
    "training_times = jnp.linspace(0, 999, 10, dtype=jnp.int32)\n",
    "print(training_times)"
   ]
  },
  {
   "cell_type": "code",
   "execution_count": 76,
   "metadata": {},
   "outputs": [],
   "source": [
    "times = jnp.linspace(0, 9.99, 1000)"
   ]
  },
  {
   "cell_type": "code",
   "execution_count": 77,
   "metadata": {},
   "outputs": [
    {
     "data": {
      "text/plain": [
       "[<matplotlib.lines.Line2D at 0x1ac4ff99dc0>]"
      ]
     },
     "execution_count": 77,
     "metadata": {},
     "output_type": "execute_result"
    },
    {
     "data": {
      "image/png": "[encoded data removed]",
      "text/plain": [
       "<Figure size 640x480 with 1 Axes>"
      ]
     },
     "metadata": {},
     "output_type": "display_data"
    }
   ],
   "source": [
    "plt.plot(times[training_times], no_noise_data[training_times], marker=\"x\", linewidth=0)"
   ]
  },
  {
   "cell_type": "markdown",
   "metadata": {},
   "source": [
    "neural network - 1 hidden layer, 10 neurons"
   ]
  },
  {
   "cell_type": "code",
   "execution_count": 78,
   "metadata": {},
   "outputs": [],
   "source": [
    "class VectorField(eqx.Module):\n",
    "    layers: list\n",
    "\n",
    "    def __init__(self, key):\n",
    "        key1, key2 = jr.split(key, 2)\n",
    "        self.layers = [\n",
    "            eqx.nn.Linear(2, 10, use_bias=True, key=key1),\n",
    "            jnp.tanh,\n",
    "            eqx.nn.Linear(10, 1, use_bias=True, key=key2)\n",
    "        ]\n",
    "\n",
    "    def __call__(self, t, y, args):\n",
    "        t = jnp.asarray(t)[None]\n",
    "        y = jnp.concatenate([t, y])\n",
    "        for layer in self.layers:\n",
    "            y = layer(y)\n",
    "        return y"
   ]
  },
  {
   "cell_type": "markdown",
   "metadata": {},
   "source": [
    "Neural ODE"
   ]
  },
  {
   "cell_type": "code",
   "execution_count": 82,
   "metadata": {},
   "outputs": [],
   "source": [
    "class NeuralODE(eqx.Module):\n",
    "    vector_field: VectorField\n",
    "\n",
    "    def __init__(self, key):\n",
    "        self.vector_field = VectorField(key)\n",
    "\n",
    "    def __call__(self):\n",
    "        vf = dfx.ODETerm(self.vector_field)\n",
    "        t0 = 0\n",
    "        t1 = 9.99\n",
    "        dt0 = 0.01\n",
    "        train_times_idxs = jnp.linspace(0, 999, 10, dtype=jnp.int32)\n",
    "        times = jnp.linspace(t0, t1, 1000)\n",
    "        saveat = dfx.SaveAt(ts=times[train_times_idxs])\n",
    "        y0 = jnp.array([0.0])\n",
    "        solver = dfx.Midpoint()\n",
    "        sol = dfx.diffeqsolve(\n",
    "            terms = vf,\n",
    "            solver = solver,\n",
    "            t0 = t0,\n",
    "            t1 = t1,\n",
    "            dt0 = dt0,\n",
    "            y0 = y0,\n",
    "            saveat = saveat,\n",
    "            max_steps=999,\n",
    "        )\n",
    "        ts = sol.ts\n",
    "        ys = sol.ys\n",
    "        return ts, ys[:, -1]"
   ]
  },
  {
   "cell_type": "markdown",
   "metadata": {},
   "source": [
    "RNG"
   ]
  },
  {
   "cell_type": "code",
   "execution_count": 83,
   "metadata": {},
   "outputs": [],
   "source": [
    "SEED = 1\n",
    "key = jr.key(SEED)\n",
    "model_key, perm_key = jr.split(key, 2)"
   ]
  },
  {
   "cell_type": "markdown",
   "metadata": {},
   "source": [
    "training"
   ]
  },
  {
   "cell_type": "code",
   "execution_count": 84,
   "metadata": {},
   "outputs": [
    {
     "name": "stdout",
     "output_type": "stream",
     "text": [
      "Step: 0, Loss: 0.6775131225585938\n",
      "Step: 100, Loss: 0.009000346064567566\n",
      "Step: 200, Loss: 0.004261346068233252\n",
      "Step: 300, Loss: 0.0028413929976522923\n",
      "Step: 400, Loss: 0.00127074692863971\n",
      "Step: 500, Loss: 0.0016646443400532007\n",
      "Step: 600, Loss: 0.0008453172631561756\n",
      "Step: 700, Loss: 0.001380064175464213\n",
      "Step: 800, Loss: 0.001730876392684877\n",
      "Step: 900, Loss: 0.0012576162116602063\n",
      "Step: 999, Loss: 0.0008837383356876671\n"
     ]
    }
   ],
   "source": [
    "@eqx.filter_value_and_grad\n",
    "def grad_loss(model, ys_data):\n",
    "    ts, ys = model()\n",
    "    return jnp.mean((ys_data - ys) ** 2)\n",
    "\n",
    "\n",
    "@eqx.filter_jit\n",
    "def make_step(model, ys_data, optim, opt_state):\n",
    "    loss, grads = grad_loss(model, ys_data)\n",
    "    updates, opt_state = optim.update(grads, opt_state)\n",
    "    model = eqx.apply_updates(model, updates)\n",
    "    return loss, model, opt_state\n",
    "\n",
    "neural_ode = NeuralODE(key)\n",
    "optim = optax.adam(1e-2)\n",
    "opt_state = optim.init(eqx.filter(neural_ode, eqx.is_inexact_array))\n",
    "\n",
    "steps = 1000\n",
    "perms = jr.randint(perm_key, shape=(steps,), minval=0, maxval=9)\n",
    "for step in range(steps):\n",
    "    ys_data = (train_data[perms[step], :])[training_times]\n",
    "    # ys_data = no_noise_data\n",
    "    loss, neural_ode, opt_state = make_step(neural_ode, ys_data, optim, opt_state)\n",
    "    if step % 100 == 0 or step == steps - 1:\n",
    "        print(f\"Step: {step}, Loss: {loss}\")"
   ]
  },
  {
   "cell_type": "code",
   "execution_count": 85,
   "metadata": {},
   "outputs": [],
   "source": [
    "ts, ys = neural_ode()"
   ]
  },
  {
   "cell_type": "code",
   "execution_count": 86,
   "metadata": {},
   "outputs": [
    {
     "data": {
      "image/png": "[encoded data removed]",
      "text/plain": [
       "<Figure size 640x480 with 1 Axes>"
      ]
     },
     "metadata": {},
     "output_type": "display_data"
    }
   ],
   "source": [
    "plt.plot(ts, no_noise_data[training_times], linestyle=\"--\", color=\"black\", linewidth=3, label=\"true\")\n",
    "plt.plot(ts, ys, color=\"red\", label=\"predicted\")\n",
    "plt.legend()\n",
    "plt.show()"
   ]
  },
  {
   "cell_type": "code",
   "execution_count": null,
   "metadata": {},
   "outputs": [],
   "source": []
  }
 ],
 "metadata": {
  "kernelspec": {
   "display_name": ".venv",
   "language": "python",
   "name": "python3"
  },
  "language_info": {
   "codemirror_mode": {
    "name": "ipython",
    "version": 3
   },
   "file_extension": ".py",
   "mimetype": "text/x-python",
   "name": "python",
   "nbconvert_exporter": "python",
   "pygments_lexer": "ipython3",
   "version": "3.12.8"
  }
 },
 "nbformat": 4,
 "nbformat_minor": 2
}
